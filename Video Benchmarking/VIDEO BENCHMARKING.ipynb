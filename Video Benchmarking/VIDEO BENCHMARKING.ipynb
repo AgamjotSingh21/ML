{
 "cells": [
  {
   "cell_type": "code",
   "execution_count": 10,
   "id": "99e9d7ba-6d30-416d-b996-313ae611c199",
   "metadata": {},
   "outputs": [
    {
     "name": "stdout",
     "output_type": "stream",
     "text": [
      "TensorFlow version: 2.9.1\n",
      "Num GPUs Available: 1\n"
     ]
    }
   ],
   "source": [
    "import cv2\n",
    "import numpy as np\n",
    "import pandas as pd\n",
    "import matplotlib.pyplot as plt\n",
    "import time\n",
    "import tensorflow as tf\n",
    "from tensorflow.keras.models import Sequential\n",
    "from tensorflow.keras.layers import Flatten, Dense, Conv2D, MaxPooling2D\n",
    "\n",
    "print(\"TensorFlow version:\", tf.__version__)\n",
    "print(\"Num GPUs Available:\", len(tf.config.list_physical_devices('GPU')))\n"
   ]
  },
  {
   "cell_type": "code",
   "execution_count": 11,
   "id": "982ea85a-264b-47a5-bdaa-b4ddc3df852b",
   "metadata": {},
   "outputs": [
    {
     "name": "stdout",
     "output_type": "stream",
     "text": [
      "Frames shape: (687, 120, 160, 3)\n"
     ]
    }
   ],
   "source": [
    "video_path = \"video.mp4\" \n",
    "cap = cv2.VideoCapture(video_path)\n",
    "frames = []\n",
    "\n",
    "while True:\n",
    "    ret, frame = cap.read()\n",
    "    if not ret:\n",
    "        break\n",
    "    frame_resized = cv2.resize(frame, (160, 120))\n",
    "    frames.append(frame_resized / 255.0)\n",
    "\n",
    "cap.release()\n",
    "frames = np.array(frames)\n",
    "print(\"Frames shape:\", frames.shape)"
   ]
  },
  {
   "cell_type": "code",
   "execution_count": 12,
   "id": "6c3656ef-651b-4165-a423-392d12dc154c",
   "metadata": {},
   "outputs": [],
   "source": [
    "ann_model = Sequential([\n",
    "    Flatten(input_shape=(120, 160, 3)),\n",
    "    Dense(512, activation='relu'),\n",
    "    Dense(256, activation='relu'),\n",
    "    Dense(10, activation='softmax') \n",
    "])"
   ]
  },
  {
   "cell_type": "code",
   "execution_count": 13,
   "id": "371f4170-294c-496d-a7c2-cd28705dc73f",
   "metadata": {},
   "outputs": [],
   "source": [
    "cnn_model = Sequential([\n",
    "    Conv2D(32, (3,3), activation='relu', input_shape=(120, 160, 3)),\n",
    "    MaxPooling2D((2,2)),\n",
    "    Conv2D(64, (3,3), activation='relu'),\n",
    "    MaxPooling2D((2,2)),\n",
    "    Flatten(),\n",
    "    Dense(256, activation='relu'),\n",
    "    Dense(10, activation='softmax')\n",
    "])"
   ]
  },
  {
   "cell_type": "code",
   "execution_count": 14,
   "id": "8c8dbb47-ad79-4c4c-8e3b-9c54b298c2ff",
   "metadata": {},
   "outputs": [
    {
     "name": "stdout",
     "output_type": "stream",
     "text": [
      "687/687 [==============================] - 13s 18ms/step\n",
      "ANN on CPU: Time = 12.98s, FPS = 52.94\n",
      "687/687 [==============================] - 10s 15ms/step\n",
      "CNN on CPU: Time = 10.24s, FPS = 67.11\n",
      "687/687 [==============================] - 3s 1ms/step\n",
      "ANN on GPU: Time = 2.91s, FPS = 235.93\n",
      "687/687 [==============================] - 4s 1ms/step\n",
      "CNN on GPU: Time = 4.70s, FPS = 146.28\n"
     ]
    }
   ],
   "source": [
    "# ANN on CPU\n",
    "with tf.device('/CPU:0'):\n",
    "    start = time.time()\n",
    "    _ = ann_model.predict(frames, batch_size=1)\n",
    "    ann_cpu_time = time.time() - start\n",
    "    ann_cpu_fps = frames.shape[0] / ann_cpu_time\n",
    "print(f\"ANN on CPU: Time = {ann_cpu_time:.2f}s, FPS = {ann_cpu_fps:.2f}\")\n",
    "\n",
    "# CNN on CPU\n",
    "with tf.device('/CPU:0'):\n",
    "    start = time.time()\n",
    "    _ = cnn_model.predict(frames, batch_size=1)\n",
    "    cnn_cpu_time = time.time() - start\n",
    "    cnn_cpu_fps = frames.shape[0] / cnn_cpu_time\n",
    "print(f\"CNN on CPU: Time = {cnn_cpu_time:.2f}s, FPS = {cnn_cpu_fps:.2f}\")\n",
    "\n",
    "# ANN on GPU\n",
    "with tf.device('/GPU:0'):\n",
    "    start = time.time()\n",
    "    _ = ann_model.predict(frames, batch_size=1)\n",
    "    ann_gpu_time = time.time() - start\n",
    "    ann_gpu_fps = frames.shape[0] / ann_gpu_time\n",
    "print(f\"ANN on GPU: Time = {ann_gpu_time:.2f}s, FPS = {ann_gpu_fps:.2f}\")\n",
    "\n",
    "# CNN on GPU\n",
    "with tf.device('/GPU:0'):\n",
    "    start = time.time()\n",
    "    _ = cnn_model.predict(frames, batch_size=1)\n",
    "    cnn_gpu_time = time.time() - start\n",
    "    cnn_gpu_fps = frames.shape[0] / cnn_gpu_time\n",
    "print(f\"CNN on GPU: Time = {cnn_gpu_time:.2f}s, FPS = {cnn_gpu_fps:.2f}\")\n"
   ]
  },
  {
   "cell_type": "code",
   "execution_count": 15,
   "id": "c3a90cb7-856b-4dc2-9ecd-fc18dc1fc8b4",
   "metadata": {},
   "outputs": [
    {
     "name": "stdout",
     "output_type": "stream",
     "text": [
      "  Model Device   Time (s)         FPS\n",
      "0   ANN    CPU  12.977628   52.937254\n",
      "1   CNN    CPU  10.236545   67.112489\n",
      "2   ANN    GPU   2.911881  235.929993\n",
      "3   CNN    GPU   4.696623  146.275310\n"
     ]
    }
   ],
   "source": [
    "results = pd.DataFrame({\n",
    "    'Model': ['ANN', 'CNN', 'ANN', 'CNN'],\n",
    "    'Device': ['CPU', 'CPU', 'GPU', 'GPU'],\n",
    "    'Time (s)': [ann_cpu_time, cnn_cpu_time, ann_gpu_time, cnn_gpu_time],\n",
    "    'FPS': [ann_cpu_fps, cnn_cpu_fps, ann_gpu_fps, cnn_gpu_fps]\n",
    "})\n",
    "print(results)"
   ]
  },
  {
   "cell_type": "code",
   "execution_count": 18,
   "id": "8bdb4394-0b14-4155-ae44-0f0f772b1446",
   "metadata": {},
   "outputs": [
    {
     "data": {
      "image/png": "[encoded data removed]",
      "text/plain": [
       "<Figure size 1200x600 with 2 Axes>"
      ]
     },
     "metadata": {},
     "output_type": "display_data"
    }
   ],
   "source": [
    "fig, ax = plt.subplots(1, 2, figsize=(12,6))\n",
    "\n",
    "results.pivot(index=\"Model\", columns=\"Device\", values=\"Time (s)\").plot(kind='bar', ax=ax[0])\n",
    "ax[0].set_title(\"Execution Time (s)\")\n",
    "ax[0].set_ylabel(\"Time (s)\")\n",
    "\n",
    "results.pivot(index=\"Model\", columns=\"Device\", values=\"FPS\").plot(kind='bar', ax=ax[1])\n",
    "ax[1].set_title(\"Frames per Second (FPS)\")\n",
    "ax[1].set_ylabel(\"FPS\")\n",
    "\n",
    "plt.tight_layout()\n",
    "plt.show()"
   ]
  },
  {
   "cell_type": "code",
   "execution_count": null,
   "id": "9f4c7cc2-2ec4-425f-ad92-f4c3d1e0a9d7",
   "metadata": {},
   "outputs": [],
   "source": []
  }
 ],
 "metadata": {
  "kernelspec": {
   "display_name": "Python 3 (ipykernel)",
   "language": "python",
   "name": "python3"
  },
  "language_info": {
   "codemirror_mode": {
    "name": "ipython",
    "version": 3
   },
   "file_extension": ".py",
   "mimetype": "text/x-python",
   "name": "python",
   "nbconvert_exporter": "python",
   "pygments_lexer": "ipython3",
   "version": "3.10.9"
  }
 },
 "nbformat": 4,
 "nbformat_minor": 5
}
